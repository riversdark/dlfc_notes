{
 "cells": [
  {
   "cell_type": "code",
   "execution_count": 1,
   "metadata": {},
   "outputs": [],
   "source": [
    "#!/usr/bin/env python\n",
    "\n",
    "import math\n",
    "import matplotlib.pyplot as plt\n",
    "import torch\n",
    "import torch.nn as nn\n",
    "\n",
    "from sklearn.datasets import make_moons\n",
    "from torch import Tensor\n",
    "from tqdm import tqdm\n",
    "from typing import *\n",
    "from zuko.utils import odeint\n",
    "\n"
   ]
  },
  {
   "cell_type": "code",
   "execution_count": 2,
   "metadata": {},
   "outputs": [],
   "source": [
    "\n",
    "def log_normal(x: Tensor) -> Tensor:\n",
    "    return -(x.square() + math.log(2 * math.pi)).sum(dim=-1) / 2\n",
    "\n",
    "\n",
    "class MLP(nn.Sequential):\n",
    "    def __init__(\n",
    "        self,\n",
    "        in_features: int,\n",
    "        out_features: int,\n",
    "        hidden_features: List[int] = [64, 64],\n",
    "    ):\n",
    "        layers = []\n",
    "\n",
    "        for a, b in zip(\n",
    "            (in_features, *hidden_features),\n",
    "            (*hidden_features, out_features),\n",
    "        ):\n",
    "            layers.extend([nn.Linear(a, b), nn.ELU()])\n",
    "\n",
    "        super().__init__(*layers[:-1])\n",
    "\n",
    "\n",
    "class CNF(nn.Module):\n",
    "    def __init__(self, features: int, freqs: int = 3, **kwargs):\n",
    "        super().__init__()\n",
    "\n",
    "        self.net = MLP(2 * freqs + features, features, **kwargs)\n",
    "        self.register_buffer('freqs', torch.arange(1, freqs + 1) * torch.pi)\n",
    "\n",
    "    def forward(self, t: Tensor, x: Tensor) -> Tensor:\n",
    "        t = self.freqs * t[..., None]\n",
    "        t = torch.cat((t.cos(), t.sin()), dim=-1)\n",
    "        t = t.expand(*x.shape[:-1], -1)\n",
    "\n",
    "        return self.net(torch.cat((t, x), dim=-1))\n",
    "\n",
    "    def encode(self, x: Tensor) -> Tensor:\n",
    "        return odeint(self, x, 0.0, 1.0, phi=self.parameters())\n",
    "\n",
    "    def decode(self, z: Tensor) -> Tensor:\n",
    "        return odeint(self, z, 1.0, 0.0, phi=self.parameters())\n",
    "\n",
    "    def log_prob(self, x: Tensor) -> Tensor:\n",
    "        I = torch.eye(x.shape[-1], dtype=x.dtype, device=x.device)\n",
    "        I = I.expand(*x.shape, x.shape[-1]).movedim(-1, 0)\n",
    "\n",
    "        def augmented(t: Tensor, x: Tensor, ladj: Tensor) -> Tensor:\n",
    "            with torch.enable_grad():\n",
    "                x = x.requires_grad_()\n",
    "                dx = self(t, x)\n",
    "\n",
    "            jacobian = torch.autograd.grad(dx, x, I, create_graph=True, is_grads_batched=True)[0]\n",
    "            trace = torch.einsum('i...i', jacobian)\n",
    "\n",
    "            return dx, trace * 1e-2\n",
    "\n",
    "        ladj = torch.zeros_like(x[..., 0])\n",
    "        z, ladj = odeint(augmented, (x, ladj), 0.0, 1.0, phi=self.parameters())\n",
    "\n",
    "        return log_normal(z) + ladj * 1e2\n",
    "\n",
    "\n",
    "class FlowMatchingLoss(nn.Module):\n",
    "    def __init__(self, v: nn.Module):\n",
    "        super().__init__()\n",
    "\n",
    "        self.v = v\n",
    "\n",
    "    def forward(self, x: Tensor) -> Tensor:\n",
    "        t = torch.rand_like(x[..., 0, None])\n",
    "        z = torch.randn_like(x)\n",
    "        y = (1 - t) * x + (1e-4 + (1 - 1e-4) * t) * z\n",
    "        u = (1 - 1e-4) * z - x\n",
    "\n",
    "        return (self.v(t.squeeze(-1), y) - u).square().mean()\n",
    "\n"
   ]
  },
  {
   "cell_type": "code",
   "execution_count": 4,
   "metadata": {},
   "outputs": [
    {
     "name": "stderr",
     "output_type": "stream",
     "text": [
      "100%|█████████████████████████████████████████████| 16384/16384 [02:48<00:00, 97.33it/s]\n"
     ]
    },
    {
     "name": "stdout",
     "output_type": "stream",
     "text": [
      "tensor([-0.7509, -0.1315, -2.6279, -0.2889])\n"
     ]
    },
    {
     "data": {
      "image/png": "[encoded data removed]",
      "text/plain": [
       "<Figure size 720x720 with 1 Axes>"
      ]
     },
     "metadata": {},
     "output_type": "display_data"
    }
   ],
   "source": [
    "flow = CNF(2, hidden_features=[64] * 3)\n",
    "\n",
    "# Training\n",
    "loss = FlowMatchingLoss(flow)\n",
    "optimizer = torch.optim.Adam(flow.parameters(), lr=1e-3)\n",
    "\n",
    "data, _ = make_moons(16384, noise=0.05)\n",
    "data = torch.from_numpy(data).float()\n",
    "\n",
    "for epoch in tqdm(range(16384), ncols=88):\n",
    "    subset = torch.randint(0, len(data), (256,))\n",
    "    x = data[subset]\n",
    "\n",
    "    loss(x).backward()\n",
    "\n",
    "    optimizer.step()\n",
    "    optimizer.zero_grad()\n",
    "\n",
    "# Sampling\n",
    "with torch.no_grad():\n",
    "    z = torch.randn(16384, 2)\n",
    "    x = flow.decode(z)\n",
    "\n",
    "plt.figure(figsize=(4.8, 4.8), dpi=150)\n",
    "plt.hist2d(*x.T, bins=64)\n",
    "\n",
    "# Log-likelihood\n",
    "with torch.no_grad():\n",
    "    log_p = flow.log_prob(data[:4])\n",
    "\n",
    "print(log_p)\n"
   ]
  }
 ],
 "metadata": {
  "kernelspec": {
   "display_name": "torch",
   "language": "python",
   "name": "python3"
  },
  "language_info": {
   "codemirror_mode": {
    "name": "ipython",
    "version": 3
   },
   "file_extension": ".py",
   "mimetype": "text/x-python",
   "name": "python",
   "nbconvert_exporter": "python",
   "pygments_lexer": "ipython3",
   "version": "3.12.7"
  }
 },
 "nbformat": 4,
 "nbformat_minor": 2
}
