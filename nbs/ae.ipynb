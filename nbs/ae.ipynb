{
  "cells": [
    {
      "cell_type": "markdown",
      "id": "qhMapNTDz2dD",
      "metadata": {
        "id": "qhMapNTDz2dD"
      },
      "source": [
        "# deterministic autoencoder and variational autoencoder on CelebA\n",
        "\n",
        "It also uses pre-trained checkpoints, to make the demo faster.\n",
        "However, the code to train the model from scratch is also included."
      ]
    },
    {
      "cell_type": "code",
      "execution_count": null,
      "id": "870e031b",
      "metadata": {},
      "outputs": [],
      "source": [
        "from functools import partial\n",
        "from itertools import islice\n",
        "import subprocess\n",
        "from typing import Sequence, Tuple\n",
        "\n",
        "import flax\n",
        "import flax.linen as nn\n",
        "from flax.training import checkpoints, train_state\n",
        "import jax\n",
        "import jax.numpy as jnp\n",
        "import matplotlib.pyplot as plt\n",
        "import numpy as np\n",
        "import optax\n",
        "import tensorflow as tf\n",
        "import torch\n",
        "from torch.utils.data import DataLoader\n",
        "import torchvision.transforms as T\n",
        "from torchvision.datasets import CelebA\n",
        "\n",
        "tf.config.set_visible_devices([], \"GPU\")  # prevent TensorFlow from using the GPU\n"
      ]
    },
    {
      "cell_type": "markdown",
      "id": "91225682",
      "metadata": {},
      "source": [
        "The encoder has convolutional layers followed by a fully connected layer.\n",
        "The covolutional layers are shared between mean and variance, while each has its own fully connected layer."
      ]
    },
    {
      "cell_type": "code",
      "execution_count": null,
      "id": "95925c7f",
      "metadata": {},
      "outputs": [],
      "source": [
        "class Encoder(nn.Module):\n",
        "    latent_dim: int\n",
        "    hidden_channels: Sequence[int]\n",
        "\n",
        "    @nn.compact\n",
        "    def __call__(self, X, training):\n",
        "        for channel in self.hidden_channels:\n",
        "            X = nn.Conv(channel, (3, 3), strides=2, padding=1)(X)\n",
        "            X = nn.BatchNorm(use_running_average=not training)(X)\n",
        "            X = jax.nn.relu(X)\n",
        "\n",
        "        X = X.reshape((-1, np.prod(X.shape[-3:])))\n",
        "        mu = nn.Dense(self.latent_dim)(X)\n",
        "        logvar = nn.Dense(self.latent_dim)(X)\n",
        "\n",
        "        return mu, logvar\n",
        "\n",
        "\n",
        "class Decoder(nn.Module):\n",
        "    output_dim: Tuple[int, int, int]\n",
        "    hidden_channels: Sequence[int]\n",
        "\n",
        "    @nn.compact\n",
        "    def __call__(self, X, training):\n",
        "        H, W, C = self.output_dim\n",
        "\n",
        "        # TODO: relax this restriction\n",
        "        factor = 2 ** len(self.hidden_channels)\n",
        "        assert (\n",
        "            H % factor == W % factor == 0\n",
        "        ), f\"output_dim must be a multiple of {factor}\"\n",
        "        H, W = H // factor, W // factor\n",
        "\n",
        "        X = nn.Dense(H * W * self.hidden_channels[-1])(X)\n",
        "        X = jax.nn.relu(X)\n",
        "        X = X.reshape((-1, H, W, self.hidden_channels[-1]))\n",
        "\n",
        "        for hidden_channel in reversed(self.hidden_channels[:-1]):\n",
        "            X = nn.ConvTranspose(\n",
        "                hidden_channel, (3, 3), strides=(2, 2), padding=((1, 2), (1, 2))\n",
        "            )(X)\n",
        "            X = nn.BatchNorm(use_running_average=not training)(X)\n",
        "            X = jax.nn.relu(X)\n",
        "\n",
        "        X = nn.ConvTranspose(C, (3, 3), strides=(2, 2), padding=((1, 2), (1, 2)))(X)\n",
        "        X = jax.nn.sigmoid(X)\n",
        "\n",
        "        return X\n",
        "\n",
        "\n",
        "def reparameterize(key, mean, logvar):\n",
        "    std = jnp.exp(0.5 * logvar)\n",
        "    eps = jax.random.normal(key, logvar.shape)\n",
        "    return mean + eps * std\n",
        "\n",
        "\n",
        "class VAE(nn.Module):\n",
        "    variational: bool\n",
        "    latent_dim: int\n",
        "    output_dim: Tuple[int, int, int]\n",
        "    hidden_channels: Sequence[int]\n",
        "\n",
        "    def setup(self):\n",
        "        self.encoder = Encoder(self.latent_dim, self.hidden_channels)\n",
        "        self.decoder = Decoder(self.output_dim, self.hidden_channels)\n",
        "\n",
        "    def __call__(self, key, X, training):\n",
        "        mean, logvar = self.encoder(X, training)\n",
        "        if self.variational:\n",
        "            Z = reparameterize(key, mean, logvar)\n",
        "        else:\n",
        "            Z = mean\n",
        "\n",
        "        recon = self.decoder(Z, training)\n",
        "        return recon, mean, logvar\n",
        "\n",
        "    def decode(self, Z, training):\n",
        "        return self.decoder(Z, training)"
      ]
    },
    {
      "cell_type": "code",
      "execution_count": null,
      "id": "e124088e",
      "metadata": {},
      "outputs": [],
      "source": [
        "\n",
        "class TrainState(train_state.TrainState):\n",
        "    batch_stats: flax.core.FrozenDict[str, jnp.ndarray]\n",
        "    beta: float\n",
        "\n",
        "\n",
        "def create_train_state(\n",
        "    key, variational, beta, latent_dim, hidden_channels, learning_rate, specimen\n",
        "):\n",
        "    vae = VAE(variational, latent_dim, specimen.shape, hidden_channels)\n",
        "    key_dummy = jax.random.PRNGKey(42)\n",
        "    (recon, _, _), variables = vae.init_with_output(key, key_dummy, specimen, True)\n",
        "    assert (\n",
        "        recon.shape[-3:] == specimen.shape\n",
        "    ), f\"{recon.shape} = recon.shape != specimen.shape = {specimen.shape}\"\n",
        "    tx = optax.adam(learning_rate)\n",
        "    state = TrainState.create(\n",
        "        apply_fn=vae.apply,\n",
        "        params=variables[\"params\"],\n",
        "        tx=tx,\n",
        "        batch_stats=variables[\"batch_stats\"],\n",
        "        beta=beta,\n",
        "    )\n",
        "\n",
        "    return state\n",
        "\n",
        "\n",
        "@jax.vmap\n",
        "def kl_divergence(mean, logvar):\n",
        "    return -0.5 * jnp.sum(1 + logvar - jnp.square(mean) - jnp.exp(logvar))\n",
        "\n",
        "\n",
        "@jax.jit\n",
        "def train_step(state, key, image):\n",
        "    @partial(jax.value_and_grad, has_aux=True)\n",
        "    def loss_fn(params):\n",
        "        variables = {\"params\": params, \"batch_stats\": state.batch_stats}\n",
        "        (recon, mean, logvar), new_model_state = state.apply_fn(\n",
        "            variables, key, image, True, mutable=[\"batch_stats\"]\n",
        "        )\n",
        "        loss = jnp.sum((recon - image) ** 2) + state.beta * jnp.sum(\n",
        "            kl_divergence(mean, logvar)\n",
        "        )\n",
        "        return loss.sum(), new_model_state\n",
        "\n",
        "    (loss, new_model_state), grads = loss_fn(state.params)\n",
        "\n",
        "    state = state.apply_gradients(\n",
        "        grads=grads, batch_stats=new_model_state[\"batch_stats\"]\n",
        "    )\n",
        "\n",
        "    return state, loss\n",
        "\n",
        "\n",
        "@jax.jit\n",
        "def test_step(state, key, image):\n",
        "    variables = {\"params\": state.params, \"batch_stats\": state.batch_stats}\n",
        "    recon, mean, logvar = state.apply_fn(variables, key, image, False)\n",
        "\n",
        "    return recon, mean, logvar\n",
        "\n",
        "\n",
        "@jax.jit\n",
        "def decode(state, Z):\n",
        "    variables = {\"params\": state.params, \"batch_stats\": state.batch_stats}\n",
        "    decoded = state.apply_fn(variables, Z, False, method=VAE.decode)\n",
        "\n",
        "    return decoded\n",
        "\n"
      ]
    },
    {
      "cell_type": "code",
      "execution_count": null,
      "id": "b995d456",
      "metadata": {},
      "outputs": [],
      "source": [
        "from torch import Generator\n",
        "from torch.utils.data import DataLoader\n",
        "import torchvision.transforms as T\n",
        "from torchvision.datasets import MNIST\n",
        "\n",
        "\n",
        "batch_size = 256\n",
        "latent_dim = 20\n",
        "hidden_channels = (32, 64, 128, 256, 512)\n",
        "lr = 1e-3\n",
        "specimen = jnp.empty((32, 32, 1))\n",
        "variational = True\n",
        "beta = 1\n",
        "target_epoch = 2\n",
        "\n",
        "transform = T.Compose([T.Resize((32, 32)), T.ToTensor()])\n",
        "mnist_train = MNIST(\"data/vae/mnist\", train=True, download=True, transform=transform)\n",
        "generator = Generator().manual_seed(42)\n",
        "loader = DataLoader(mnist_train, batch_size, shuffle=True, generator=generator)\n",
        "\n",
        "key = jax.random.PRNGKey(42)\n",
        "state = create_train_state(key, variational, beta, latent_dim, hidden_channels, lr, specimen)\n",
        "\n",
        "for epoch in range(target_epoch):\n",
        "    loss_train = 0\n",
        "    for X, _ in loader:\n",
        "        image = jnp.array(X).reshape((-1, *specimen.shape))\n",
        "        key, key_Z = jax.random.split(key)\n",
        "        state, loss = train_step(state, key_Z, image)\n",
        "        loss_train += loss\n",
        "\n",
        "    print(f\"Epoch {epoch + 1}: train loss {loss_train}\")"
      ]
    },
    {
      "cell_type": "markdown",
      "id": "nDFddyrewmu1",
      "metadata": {
        "id": "nDFddyrewmu1"
      },
      "source": [
        "## Create directories"
      ]
    },
    {
      "cell_type": "code",
      "execution_count": null,
      "id": "DoHsh7IXwp8_",
      "metadata": {
        "id": "DoHsh7IXwp8_"
      },
      "outputs": [],
      "source": [
        "!mkdir data/vae/celeba\n",
        "!mkdir data/vae/ckpts\n",
        "!mkdir data/vae/plots"
      ]
    },
    {
      "cell_type": "markdown",
      "id": "fNEnXOzrzSBq",
      "metadata": {
        "id": "fNEnXOzrzSBq"
      },
      "source": [
        "## Download dataset"
      ]
    },
    {
      "cell_type": "code",
      "execution_count": null,
      "id": "j3iUKMOlObgw",
      "metadata": {
        "id": "j3iUKMOlObgw"
      },
      "outputs": [],
      "source": [
        "# Download the dataset from an interal mirror since the Google Drive has bandwidth limit.\n",
        "#\n",
        "# The files were manually downloaded from the Google Drive at https://docs.google.com/uc?export=download&id={{ FILE_ID }}\n",
        "# and then uploaded to the mirror server, where FILE_ID can be found at https://github.com/pytorch/vision/blob/3db30442a52e250c569ba131485fc432c8300f16/torchvision/datasets/celeba.py#L47-L58\n",
        "# Just place them in /content/celeba and unzip img_align_celeba.zip; no other preprocessing is needed.\n",
        "\n",
        "!wget -r -np -nc -nH -q --cut-dirs=1 -R \"index.html*\" https://internal-use.adroits.xyz/datasets/celeba/ -P data/vae/celeba\n",
        "!unzip -d data/vae/celeba -qq data/vae/celeba/img_align_celeba.zip"
      ]
    },
    {
      "cell_type": "code",
      "execution_count": null,
      "id": "HoCY6x3gzQ3A",
      "metadata": {
        "id": "HoCY6x3gzQ3A"
      },
      "outputs": [],
      "source": [
        "torch.manual_seed(42)\n",
        "\n",
        "transform = T.Compose([T.RandomHorizontalFlip(), T.CenterCrop((128, 128)), T.Resize((64, 64)), np.array])\n",
        "\n",
        "# No need to specify download=True since we have placed the dataset files in /content\n",
        "celeba_train = CelebA(\"data/vae/celeba\", split=\"train\", transform=transform)\n",
        "celeba_test = CelebA(\"data/vae/celeba\", split=\"test\", transform=transform)"
      ]
    },
    {
      "cell_type": "markdown",
      "id": "5pFwivR7y6jI",
      "metadata": {
        "id": "5pFwivR7y6jI"
      },
      "source": [
        "## Hyperparameters"
      ]
    },
    {
      "cell_type": "code",
      "execution_count": null,
      "id": "7ad29a2b-d4ec-4a6e-9917-bbe52fe8a01d",
      "metadata": {
        "id": "7ad29a2b-d4ec-4a6e-9917-bbe52fe8a01d"
      },
      "outputs": [],
      "source": [
        "ckpt_dir = \"data/vae/ckpts\"\n",
        "epochs = 5\n",
        "batch_size = 256\n",
        "latent_dim = 256\n",
        "hidden_channels = (32, 64, 128, 256, 512)\n",
        "lr = 1e-3\n",
        "specimen = jnp.empty((64, 64, 3))\n",
        "\n",
        "configs = {\n",
        "    \"ae\": (False, 0),\n",
        "    \"vae_0.1\": (True, 0.1),\n",
        "    \"vae_0.5\": (True, 0.5),\n",
        "    \"vae_1.0\": (True, 1),\n",
        "}"
      ]
    },
    {
      "cell_type": "markdown",
      "id": "_Gr1g5JXy17z",
      "metadata": {
        "id": "_Gr1g5JXy17z"
      },
      "source": [
        "## Prepare checkpoints\n",
        "\n",
        "Either by downloading or training"
      ]
    },
    {
      "cell_type": "code",
      "execution_count": null,
      "id": "937e18ac-4ed8-43e2-83be-78aeca42041a",
      "metadata": {
        "colab": {
          "base_uri": "https://localhost:8080/"
        },
        "id": "937e18ac-4ed8-43e2-83be-78aeca42041a",
        "outputId": "fd84460f-7e44-4b72-a7fe-8cef380ae412"
      },
      "outputs": [],
      "source": [
        "def train(name, variational, beta, loader_train, target_epoch):\n",
        "    print(f\"=== Training {name} ===\")\n",
        "    key = jax.random.PRNGKey(42)\n",
        "    state = create_train_state(key, variational, beta, latent_dim, hidden_channels, lr, specimen)\n",
        "\n",
        "    for epoch in range(target_epoch):\n",
        "        loss_train = 0\n",
        "        for X, _ in loader_train:\n",
        "            image = jnp.array(X).reshape((-1, *specimen.shape)) / 255.0\n",
        "            key, key_Z = jax.random.split(key)\n",
        "            state, loss = train_step(state, key_Z, image)\n",
        "            loss_train += loss\n",
        "\n",
        "        print(f\"Epoch {epoch + 1}: train loss {loss_train}\")\n",
        "\n",
        "        # Keep the model with lowest loss_train\n",
        "        checkpoints.save_checkpoint(\n",
        "            ckpt_dir, state, epoch + 1, prefix=f\"{name}_celeba_\", keep=target_epoch, overwrite=True\n",
        "        )\n",
        "\n",
        "\n",
        "def prepare_checkpoints(target_epoch, download=True):\n",
        "    # Download pre-trained checkpoints by default to save time. At the time\n",
        "    # of writing, we have prepared the checkpoints for the first 5 epochs,\n",
        "    # so target_epoch must be less than or equal to 5.\n",
        "    #\n",
        "    # NOTE: You may want to deletes all existing checkpoints before downloading.\n",
        "    if download:\n",
        "        # print(\"Deleting existing checkpoints\")\n",
        "        # subprocess.run([\"rm\", \"-rf\", ckpt_dir])\n",
        "        # subprocess.run([\"mkdir\", ckpt_dir])\n",
        "        for name in configs:\n",
        "            url = f\"https://internal-use.adroits.xyz/ckpts/celeba_vae_ae_comparison/{name}_celeba_{target_epoch}\"\n",
        "            print(\"Downloading\", url)\n",
        "            subprocess.run([\"wget\", \"-q\", url, \"-P\", ckpt_dir], check=True)\n",
        "        return\n",
        "\n",
        "    # Alternatively, you can train the model from scratch if you want to tune\n",
        "    # the hyperparameters. It takes ~4 minutes per epoch per model on a GPU\n",
        "    # runtime with a Tesla P100 GPU.\n",
        "    loader_train = DataLoader(celeba_train, batch_size, shuffle=True, generator=torch.Generator().manual_seed(42))\n",
        "\n",
        "    for name, (variational, beta) in configs.items():\n",
        "        train(name, variational, beta, loader_train, target_epoch)\n",
        "\n",
        "\n",
        "prepare_checkpoints(epochs, download=True)"
      ]
    },
    {
      "cell_type": "markdown",
      "id": "hx6NEGqz8tqx",
      "metadata": {
        "id": "hx6NEGqz8tqx"
      },
      "source": [
        "## Load checkpoints"
      ]
    },
    {
      "cell_type": "code",
      "execution_count": null,
      "id": "L8Acu0dR8r1D",
      "metadata": {
        "id": "L8Acu0dR8r1D"
      },
      "outputs": [],
      "source": [
        "states = {}\n",
        "\n",
        "for name, (variational, beta) in configs.items():\n",
        "    key = jax.random.PRNGKey(42)\n",
        "    state = create_train_state(key, variational, beta, latent_dim, hidden_channels, lr, specimen)\n",
        "    restored = checkpoints.restore_checkpoint(ckpt_dir, state, prefix=f\"{name}_celeba_\")\n",
        "    if state is restored:\n",
        "        raise FileNotFoundError(f\"Cannot load checkpoint from {ckpt_dir}/{name}_celeba_X\")\n",
        "    states[name] = restored"
      ]
    },
    {
      "cell_type": "markdown",
      "id": "LlQoPMXmy9cS",
      "metadata": {
        "id": "LlQoPMXmy9cS"
      },
      "source": [
        "## Visualization of reconstructed images"
      ]
    },
    {
      "cell_type": "code",
      "execution_count": null,
      "id": "c70d8ebe-2267-4e2a-8b4d-06667cb9642b",
      "metadata": {
        "id": "c70d8ebe-2267-4e2a-8b4d-06667cb9642b"
      },
      "outputs": [],
      "source": [
        "loader_test = DataLoader(celeba_test, batch_size, shuffle=True, generator=torch.Generator().manual_seed(42))\n",
        "X, y = next(iter(loader_test))\n",
        "image = jnp.array(X).reshape((-1, *specimen.shape)) / 255.0\n",
        "\n",
        "recons = {\n",
        "    \"original\": image,\n",
        "}\n",
        "key = jax.random.PRNGKey(42)\n",
        "key, *key_Z = jax.random.split(key, 5)\n",
        "for i, name in enumerate(configs):\n",
        "    recon, _, _ = test_step(states[name], key_Z[i], image)\n",
        "    recons[name] = recon"
      ]
    },
    {
      "cell_type": "markdown",
      "id": "KbAJLZuWe8IH",
      "metadata": {
        "id": "KbAJLZuWe8IH"
      },
      "source": [
        "Show a single figure montage"
      ]
    },
    {
      "cell_type": "code",
      "execution_count": null,
      "id": "d5Tr6hHxeVq0",
      "metadata": {
        "colab": {
          "base_uri": "https://localhost:8080/",
          "height": 313
        },
        "id": "d5Tr6hHxeVq0",
        "outputId": "fe1bf64f-7c12-43fe-b071-743dd374b6a6"
      },
      "outputs": [],
      "source": [
        "fig, axes = plt.subplots(5, 6, constrained_layout=True, figsize=plt.figaspect(1))\n",
        "for row, (name, recon) in enumerate(recons.items()):\n",
        "    for col in range(6):\n",
        "        axes[row, col].imshow(recon[col], aspect=218 / 178)\n",
        "        axes[row, col].axis(\"off\")\n",
        "\n",
        "fig.suptitle(\"Original (upper) vs Reconstructed (lower four)\")\n",
        "fig.show()\n",
        "plt.savefig(\"data/vae/plots/celeba_recon_montage.pdf\")"
      ]
    },
    {
      "cell_type": "markdown",
      "id": "H3wpcYptfEnJ",
      "metadata": {
        "id": "H3wpcYptfEnJ"
      },
      "source": [
        "Plot each row as a separate figure and then save them with meaningful filenames"
      ]
    },
    {
      "cell_type": "code",
      "execution_count": null,
      "id": "Hd2I5bCVeWe-",
      "metadata": {
        "colab": {
          "base_uri": "https://localhost:8080/",
          "height": 1000
        },
        "id": "Hd2I5bCVeWe-",
        "outputId": "2712d102-96be-478c-e964-118e34e5da86"
      },
      "outputs": [],
      "source": [
        "for name, recon in recons.items():\n",
        "    fig, axes = plt.subplots(1, 6, constrained_layout=True, figsize=plt.figaspect(0.2))\n",
        "    for col in range(6):\n",
        "        axes[col].imshow(recon[col], aspect=218 / 178)\n",
        "        axes[col].axis(\"off\")\n",
        "\n",
        "    fig.show()\n",
        "    plt.savefig(f\"data/vae/plots/celeba_recon_{name}.pdf\")"
      ]
    },
    {
      "cell_type": "markdown",
      "id": "mMp9GXCHPQV3",
      "metadata": {
        "id": "mMp9GXCHPQV3"
      },
      "source": [
        "## Sampling"
      ]
    },
    {
      "cell_type": "code",
      "execution_count": null,
      "id": "e5e534cf-15e7-491a-877a-4363f2532286",
      "metadata": {
        "id": "e5e534cf-15e7-491a-877a-4363f2532286"
      },
      "outputs": [],
      "source": [
        "key = jax.random.PRNGKey(42)\n",
        "key, *key_Z = jax.random.split(key, 5)\n",
        "\n",
        "generated_images = {}\n",
        "for i, name in enumerate(configs):\n",
        "    Z = jax.random.normal(key_Z[i], (8, latent_dim))\n",
        "    generated_image = decode(states[name], Z)\n",
        "    generated_images[name] = generated_image"
      ]
    },
    {
      "cell_type": "markdown",
      "id": "EX_rUPnniGN4",
      "metadata": {
        "id": "EX_rUPnniGN4"
      },
      "source": [
        "Show a single figure montage"
      ]
    },
    {
      "cell_type": "code",
      "execution_count": null,
      "id": "2gvmsBlQiI7h",
      "metadata": {
        "colab": {
          "base_uri": "https://localhost:8080/",
          "height": 309
        },
        "id": "2gvmsBlQiI7h",
        "outputId": "882135b3-182a-4e6a-e3fc-b59c9a6c04cb"
      },
      "outputs": [],
      "source": [
        "fig, axes = plt.subplots(4, 6, constrained_layout=True, figsize=plt.figaspect(1))\n",
        "for row, (name, generated_image) in enumerate(generated_images.items()):\n",
        "    for col in range(6):\n",
        "        axes[row, col].imshow(generated_image[col], aspect=218 / 178)\n",
        "        axes[row, col].axis(\"off\")\n",
        "\n",
        "fig.suptitle(\"Generated\", fontsize=\"xx-large\")\n",
        "fig.show()\n",
        "plt.savefig(\"data/vae/plots/celeba_gen_montage.pdf\")"
      ]
    },
    {
      "cell_type": "markdown",
      "id": "JTTZv_UsiIEi",
      "metadata": {
        "id": "JTTZv_UsiIEi"
      },
      "source": [
        "Plot each row as a separate figure and then save them with meaningful filenames"
      ]
    },
    {
      "cell_type": "code",
      "execution_count": null,
      "id": "cTaK9go2iLx1",
      "metadata": {
        "colab": {
          "base_uri": "https://localhost:8080/",
          "height": 967
        },
        "id": "cTaK9go2iLx1",
        "outputId": "def6f79b-484d-4fe8-c1e4-9c1a9106c625"
      },
      "outputs": [],
      "source": [
        "for name, generated_image in generated_images.items():\n",
        "    fig, axes = plt.subplots(1, 6, constrained_layout=True, figsize=plt.figaspect(0.2))\n",
        "    for col in range(6):\n",
        "        axes[col].imshow(generated_image[col], aspect=218 / 178)\n",
        "        axes[col].axis(\"off\")\n",
        "\n",
        "    fig.show()\n",
        "    plt.savefig(f\"data/vae/plots/celeba_gen_{name}.pdf\")"
      ]
    },
    {
      "cell_type": "markdown",
      "id": "Wu3og3DFSfa8",
      "metadata": {
        "id": "Wu3og3DFSfa8"
      },
      "source": [
        "## Interpolation"
      ]
    },
    {
      "cell_type": "code",
      "execution_count": null,
      "id": "HneGLDacSiW7",
      "metadata": {
        "id": "HneGLDacSiW7"
      },
      "outputs": [],
      "source": [
        "X, y = next(iter(loader_test))\n",
        "image = jnp.array(X).reshape((-1, *specimen.shape)) / 255.0\n",
        "\n",
        "means = {}\n",
        "key = jax.random.PRNGKey(42)\n",
        "key, *key_Z = jax.random.split(key, 5)\n",
        "for i, name in enumerate(configs):\n",
        "    _, mean, _ = test_step(states[name], key_Z[i], image)\n",
        "    means[name] = mean, image"
      ]
    },
    {
      "cell_type": "markdown",
      "id": "lHQq5L9gfQ8p",
      "metadata": {
        "id": "lHQq5L9gfQ8p"
      },
      "source": [
        "Show interpolation results"
      ]
    },
    {
      "cell_type": "code",
      "execution_count": null,
      "id": "xvTH1dpzfeT0",
      "metadata": {
        "id": "xvTH1dpzfeT0"
      },
      "outputs": [],
      "source": [
        "def slerp(val, low, high):\n",
        "    \"\"\"Spherical interpolation. val has a range of 0 to 1.\"\"\"\n",
        "    if val <= 0:\n",
        "        return low\n",
        "    elif val >= 1:\n",
        "        return high\n",
        "    elif jnp.allclose(low, high):\n",
        "        return low\n",
        "    omega = jnp.arccos(jnp.dot(low / jnp.linalg.norm(low), high / jnp.linalg.norm(high)))\n",
        "    so = jnp.sin(omega)\n",
        "    return jnp.sin((1.0 - val) * omega) / so * low + jnp.sin(val * omega) / so * high\n",
        "\n",
        "\n",
        "def interp(start_index, end_index):\n",
        "    for name, (mean, image) in means.items():\n",
        "        fig, axes = plt.subplots(1, 6, constrained_layout=True, figsize=plt.figaspect(0.2))\n",
        "\n",
        "        # Anchors\n",
        "        axes[0].imshow(image[start_index], aspect=218 / 178)\n",
        "        axes[0].set_title(\"Start Image\")\n",
        "        axes[0].axis(\"off\")\n",
        "        axes[5].imshow(image[end_index], aspect=218 / 178)\n",
        "        axes[5].set_title(\"End Image\")\n",
        "        axes[5].axis(\"off\")\n",
        "\n",
        "        # Interpolated images\n",
        "        for col in range(1, 5):\n",
        "            Z = slerp(col / 5, mean[start_index], mean[end_index])\n",
        "            recon = decode(states[name], Z)\n",
        "            axes[col].imshow(recon[0], aspect=218 / 178)\n",
        "            axes[col].set_title(f\"{col/5}\")\n",
        "            axes[col].axis(\"off\")\n",
        "\n",
        "        fig.show()\n",
        "        plt.savefig(f\"data/vae/plots/celeba_interp_start{start_index}_end{end_index}_{name}.pdf\")"
      ]
    },
    {
      "cell_type": "code",
      "execution_count": null,
      "id": "ZWGuLf5O41lx",
      "metadata": {
        "colab": {
          "base_uri": "https://localhost:8080/",
          "height": 969
        },
        "id": "ZWGuLf5O41lx",
        "outputId": "7e3f8eed-7aea-4eba-a4c4-ec3e54dec768"
      },
      "outputs": [],
      "source": [
        "interp(0, 1)"
      ]
    },
    {
      "cell_type": "code",
      "execution_count": null,
      "id": "P68NiPi942rc",
      "metadata": {
        "colab": {
          "base_uri": "https://localhost:8080/",
          "height": 969
        },
        "id": "P68NiPi942rc",
        "outputId": "090b9bcf-34e9-43d7-cd66-45e5cdd9669f"
      },
      "outputs": [],
      "source": [
        "interp(1, 2)"
      ]
    },
    {
      "cell_type": "code",
      "execution_count": null,
      "id": "vbsLPGDG43bq",
      "metadata": {
        "colab": {
          "base_uri": "https://localhost:8080/",
          "height": 969
        },
        "id": "vbsLPGDG43bq",
        "outputId": "02667a4d-f493-4b2d-c132-735aaa97dd14"
      },
      "outputs": [],
      "source": [
        "interp(2, 3)"
      ]
    },
    {
      "cell_type": "markdown",
      "id": "y76HLsq7_R9e",
      "metadata": {
        "id": "y76HLsq7_R9e"
      },
      "source": [
        "## Vector Arithmetic"
      ]
    },
    {
      "cell_type": "markdown",
      "id": "oxhnc5BajE4Q",
      "metadata": {
        "id": "oxhnc5BajE4Q"
      },
      "source": [
        "Calculate the latent vector corresponding to whether the subject is wearing eyeglasses."
      ]
    },
    {
      "cell_type": "code",
      "execution_count": null,
      "id": "4aSNsycS_Y7X",
      "metadata": {
        "id": "4aSNsycS_Y7X"
      },
      "outputs": [],
      "source": [
        "eyeglasses_delta = {}\n",
        "for name in configs:\n",
        "    eyeglasses_delta[name] = (jnp.zeros((latent_dim,)), jnp.zeros((latent_dim,)), 0, 0)\n",
        "\n",
        "eyeglasses_attr_idx = 15\n",
        "key = jax.random.PRNGKey(42)\n",
        "for X, y in loader_test:\n",
        "    image = jnp.array(X).reshape((-1, *specimen.shape)) / 255.0\n",
        "    key, *key_Z = jax.random.split(key, 5)\n",
        "    for i, name in enumerate(configs):\n",
        "        _, mean, _ = test_step(states[name], key_Z[i], image)\n",
        "        sum_pos, sum_neg, count_pos, count_neg = eyeglasses_delta[name]\n",
        "        eyeglass_mask = jnp.array(y[:, eyeglasses_attr_idx] == 1)\n",
        "        sum_pos += mean[eyeglass_mask, :].sum(axis=0)\n",
        "        sum_neg += mean[~eyeglass_mask, :].sum(axis=0)\n",
        "        count_pos += eyeglass_mask.sum()\n",
        "        count_neg += (~eyeglass_mask).sum()\n",
        "        eyeglasses_delta[name] = sum_pos, sum_neg, count_pos, count_neg"
      ]
    },
    {
      "cell_type": "code",
      "execution_count": null,
      "id": "8ti5npwjlU2x",
      "metadata": {
        "id": "8ti5npwjlU2x"
      },
      "outputs": [],
      "source": [
        "X, y = next(iter(loader_test))\n",
        "image = jnp.array(X).reshape((-1, *specimen.shape)) / 255.0\n",
        "\n",
        "va_means = {}\n",
        "key = jax.random.PRNGKey(42)\n",
        "key, *key_Z = jax.random.split(key, 5)\n",
        "for i, name in enumerate(configs):\n",
        "    _, mean, _ = test_step(states[name], key_Z[i], image)\n",
        "    va_means[name] = mean, image"
      ]
    },
    {
      "cell_type": "markdown",
      "id": "Qxe8LhSejz6q",
      "metadata": {
        "id": "Qxe8LhSejz6q"
      },
      "source": [
        "Show a single figure montage"
      ]
    },
    {
      "cell_type": "code",
      "execution_count": null,
      "id": "7ndmD-LhcN3q",
      "metadata": {
        "id": "7ndmD-LhcN3q"
      },
      "outputs": [],
      "source": [
        "def arith_montage(image_index, multiplier):\n",
        "    fig, axes = plt.subplots(4, 6, constrained_layout=True, figsize=plt.figaspect(1))\n",
        "    for row, (name, (sum_pos, sum_neg, count_pos, count_neg)) in enumerate(eyeglasses_delta.items()):\n",
        "        delta = sum_pos / count_pos - sum_neg / count_neg\n",
        "        mean, image = va_means[name]\n",
        "        axes[row, 0].set_title(\"Original\")\n",
        "        axes[row, 0].axis(\"off\")\n",
        "        axes[row, 0].imshow(image[image_index], aspect=218 / 178)\n",
        "        for col in range(1, 6):\n",
        "            coef = multiplier * (col - 3)\n",
        "            Z = mean[image_index] + coef * delta\n",
        "            recon = decode(states[name], Z)\n",
        "            axes[row, col].set_title(f\"{coef}\")\n",
        "            axes[row, col].axis(\"off\")\n",
        "            axes[row, col].imshow(recon[0], aspect=218 / 178)\n",
        "\n",
        "    fig.show()\n",
        "    plt.savefig(f\"data/vae/plots/celeba_arith_img{image_index}_mul{multiplier}_montage.pdf\")"
      ]
    },
    {
      "cell_type": "code",
      "execution_count": null,
      "id": "9AmmeTyz46JX",
      "metadata": {
        "colab": {
          "base_uri": "https://localhost:8080/",
          "height": 313
        },
        "id": "9AmmeTyz46JX",
        "outputId": "66eebd90-bd5a-4bf1-ec3b-0397c2f13628"
      },
      "outputs": [],
      "source": [
        "arith_montage(0, 1)"
      ]
    },
    {
      "cell_type": "code",
      "execution_count": null,
      "id": "RRP0OH7Y47gh",
      "metadata": {
        "colab": {
          "base_uri": "https://localhost:8080/",
          "height": 313
        },
        "id": "RRP0OH7Y47gh",
        "outputId": "3cc85050-82fb-47f2-e2ac-c845a8bbe01c"
      },
      "outputs": [],
      "source": [
        "arith_montage(1, 1)"
      ]
    },
    {
      "cell_type": "code",
      "execution_count": null,
      "id": "XM7gqEen48Xc",
      "metadata": {
        "colab": {
          "base_uri": "https://localhost:8080/",
          "height": 313
        },
        "id": "XM7gqEen48Xc",
        "outputId": "a1016654-aa2c-4783-8705-e874ce2b5128"
      },
      "outputs": [],
      "source": [
        "arith_montage(2, 1)"
      ]
    },
    {
      "cell_type": "code",
      "execution_count": null,
      "id": "s_j0rr0V49W5",
      "metadata": {
        "colab": {
          "base_uri": "https://localhost:8080/",
          "height": 313
        },
        "id": "s_j0rr0V49W5",
        "outputId": "fafbadf1-b3ef-4279-fed1-053e50c99e93"
      },
      "outputs": [],
      "source": [
        "arith_montage(0, 2)"
      ]
    },
    {
      "cell_type": "code",
      "execution_count": null,
      "id": "LdOtkxXu4-NI",
      "metadata": {
        "colab": {
          "base_uri": "https://localhost:8080/",
          "height": 313
        },
        "id": "LdOtkxXu4-NI",
        "outputId": "0b1e3d62-f508-4416-8568-428d6f053bd4"
      },
      "outputs": [],
      "source": [
        "arith_montage(1, 2)"
      ]
    },
    {
      "cell_type": "code",
      "execution_count": null,
      "id": "FX_6RjwJ4_D1",
      "metadata": {
        "colab": {
          "base_uri": "https://localhost:8080/",
          "height": 313
        },
        "id": "FX_6RjwJ4_D1",
        "outputId": "70289792-8754-46f5-b390-151ce825d362"
      },
      "outputs": [],
      "source": [
        "arith_montage(2, 2)"
      ]
    },
    {
      "cell_type": "markdown",
      "id": "Ik16Fwy-j4wu",
      "metadata": {
        "id": "Ik16Fwy-j4wu"
      },
      "source": [
        "Plot each row as a separate figure and then save them with meaningful filenames"
      ]
    },
    {
      "cell_type": "code",
      "execution_count": null,
      "id": "LHlftWzXkgYq",
      "metadata": {
        "id": "LHlftWzXkgYq"
      },
      "outputs": [],
      "source": [
        "def arith(image_index, multiplier):\n",
        "    for name, (sum_pos, sum_neg, count_pos, count_neg) in eyeglasses_delta.items():\n",
        "        fig, axes = plt.subplots(1, 6, constrained_layout=True, figsize=plt.figaspect(0.2))\n",
        "        delta = sum_pos / count_pos - sum_neg / count_neg\n",
        "        mean, image = va_means[name]\n",
        "        axes[0].set_title(\"Original\")\n",
        "        axes[0].axis(\"off\")\n",
        "        axes[0].imshow(image[image_index], aspect=218 / 178)\n",
        "        for col in range(1, 6):\n",
        "            coef = multiplier * (col - 3)\n",
        "            Z = mean[image_index] + coef * delta\n",
        "            recon = decode(states[name], Z)\n",
        "            axes[col].set_title(f\"{coef}\")\n",
        "            axes[col].axis(\"off\")\n",
        "            axes[col].imshow(recon[0], aspect=218 / 178)\n",
        "\n",
        "        fig.show()\n",
        "        plt.savefig(f\"data/vae/plots/celeba_arith_img{image_index}_mul{multiplier}_{name}.pdf\")"
      ]
    },
    {
      "cell_type": "code",
      "execution_count": null,
      "id": "xXVHu0iP5A4m",
      "metadata": {
        "colab": {
          "base_uri": "https://localhost:8080/",
          "height": 969
        },
        "id": "xXVHu0iP5A4m",
        "outputId": "870640ad-12c3-4ee4-abb5-21f6c50b3763"
      },
      "outputs": [],
      "source": [
        "arith(0, 1)"
      ]
    },
    {
      "cell_type": "code",
      "execution_count": null,
      "id": "dcnHWJoL5BsR",
      "metadata": {
        "colab": {
          "base_uri": "https://localhost:8080/",
          "height": 969
        },
        "id": "dcnHWJoL5BsR",
        "outputId": "19d3d095-9091-4f87-dcb7-5e4494d3669d"
      },
      "outputs": [],
      "source": [
        "arith(1, 1)"
      ]
    },
    {
      "cell_type": "code",
      "execution_count": null,
      "id": "zjz_D_cO5C0F",
      "metadata": {
        "colab": {
          "base_uri": "https://localhost:8080/",
          "height": 969
        },
        "id": "zjz_D_cO5C0F",
        "outputId": "fa6875e0-91b6-49c8-b13e-5c39d6a3bfa6"
      },
      "outputs": [],
      "source": [
        "arith(2, 1)"
      ]
    },
    {
      "cell_type": "code",
      "execution_count": null,
      "id": "pAq03zaj5Ewz",
      "metadata": {
        "colab": {
          "base_uri": "https://localhost:8080/",
          "height": 969
        },
        "id": "pAq03zaj5Ewz",
        "outputId": "ec229a88-1db0-4a93-9d71-a0e72889822c"
      },
      "outputs": [],
      "source": [
        "arith(0, 2)"
      ]
    },
    {
      "cell_type": "code",
      "execution_count": null,
      "id": "Tvp7ZXi25F3t",
      "metadata": {
        "colab": {
          "base_uri": "https://localhost:8080/",
          "height": 969
        },
        "id": "Tvp7ZXi25F3t",
        "outputId": "26d8aa40-d277-4d29-e887-45bbd843c321"
      },
      "outputs": [],
      "source": [
        "arith(1, 2)"
      ]
    },
    {
      "cell_type": "code",
      "execution_count": null,
      "id": "AqSgcCWv5Gol",
      "metadata": {
        "colab": {
          "base_uri": "https://localhost:8080/",
          "height": 969
        },
        "id": "AqSgcCWv5Gol",
        "outputId": "ead37e41-67e3-4b92-c34c-075b774022ac"
      },
      "outputs": [],
      "source": [
        "arith(2, 2)"
      ]
    }
  ],
  "metadata": {
    "accelerator": "GPU",
    "colab": {
      "provenance": []
    },
    "gpuClass": "standard",
    "kernelspec": {
      "display_name": "Python 3 (ipykernel)",
      "language": "python",
      "name": "python3"
    },
    "language_info": {
      "codemirror_mode": {
        "name": "ipython",
        "version": 3
      },
      "file_extension": ".py",
      "mimetype": "text/x-python",
      "name": "python",
      "nbconvert_exporter": "python",
      "pygments_lexer": "ipython3",
      "version": "3.10.14"
    }
  },
  "nbformat": 4,
  "nbformat_minor": 5
}
